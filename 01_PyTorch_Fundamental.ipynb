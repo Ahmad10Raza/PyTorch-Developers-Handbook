{
 "cells": [
  {
   "cell_type": "code",
   "execution_count": 1,
   "id": "cc0e72c1",
   "metadata": {},
   "outputs": [
    {
     "name": "stdout",
     "output_type": "stream",
     "text": [
      "tensor([12, 15, 18])\n"
     ]
    }
   ],
   "source": [
    "import torch as t\n",
    "\n",
    "x = t.tensor([1, 2, 3])\n",
    "y = t.tensor([4, 5, 6])\n",
    "z = t.tensor([7, 8, 9])\n",
    "\n",
    "p = x + y + z\n",
    "\n",
    "print(p)\n"
   ]
  },
  {
   "cell_type": "code",
   "execution_count": 2,
   "id": "c50ab3e4",
   "metadata": {},
   "outputs": [
    {
     "name": "stdout",
     "output_type": "stream",
     "text": [
      "Retrieving notices: ...working... done\n",
      "Channels:\n",
      " - pytorch\n",
      " - nvidia\n",
      " - defaults\n",
      " - conda-forge\n",
      "Platform: linux-64\n",
      "Collecting package metadata (repodata.json): done\n",
      "Solving environment: done\n",
      "\n",
      "## Package Plan ##\n",
      "\n",
      "  environment location: /home/ahmad10raza/anaconda3/envs/aiml-learn\n",
      "\n",
      "  added / updated specs:\n",
      "    - pytorch\n",
      "    - pytorch-cuda=12.1\n",
      "    - torchaudio\n",
      "    - torchvision\n",
      "\n",
      "\n",
      "The following packages will be downloaded:\n",
      "\n",
      "    package                    |            build\n",
      "    ---------------------------|-----------------\n",
      "    brotli-python-1.0.9        |  py310h6a678d5_9         356 KB\n",
      "    certifi-2025.1.31          |  py310h06a4308_0         162 KB\n",
      "    cuda-cudart-12.1.105       |                0         189 KB  nvidia\n",
      "    cuda-cupti-12.1.105        |                0        15.4 MB  nvidia\n",
      "    cuda-libraries-12.1.0      |                0           2 KB  nvidia\n",
      "    cuda-nvrtc-12.1.105        |                0        19.7 MB  nvidia\n",
      "    cuda-nvtx-12.1.105         |                0          57 KB  nvidia\n",
      "    cuda-opencl-12.8.90        |                0          25 KB  nvidia\n",
      "    cuda-runtime-12.1.0        |                0           1 KB  nvidia\n",
      "    cuda-version-12.8          |                3          17 KB  nvidia\n",
      "    ffmpeg-4.3                 |       hf484d3e_0         9.9 MB  pytorch\n",
      "    filelock-3.17.0            |  py310h06a4308_0          32 KB\n",
      "    freetype-2.13.3            |       h4a9f257_0         686 KB\n",
      "    giflib-5.2.2               |       h5eee18b_0          80 KB\n",
      "    gmp-6.3.0                  |       h6a678d5_0         608 KB\n",
      "    gmpy2-2.2.1                |  py310h5eee18b_0         248 KB\n",
      "    gnutls-3.6.15              |       he1e5248_0         1.0 MB\n",
      "    idna-3.7                   |  py310h06a4308_0         130 KB\n",
      "    intel-openmp-2025.0.0      |    h06a4308_1171        22.3 MB\n",
      "    jinja2-3.1.6               |  py310h06a4308_0         277 KB\n",
      "    lame-3.100                 |       h7b6447c_0         323 KB\n",
      "    lcms2-2.16                 |       h92b89f2_1         269 KB\n",
      "    lerc-4.0.0                 |       h6a678d5_0         261 KB\n",
      "    libblas-3.8.0              |11_h6e990d7_netlib         172 KB  conda-forge\n",
      "    libcblas-3.8.0             |11_h6e990d7_netlib          47 KB  conda-forge\n",
      "    libcublas-12.1.0.26        |                0       329.0 MB  nvidia\n",
      "    libcufft-11.0.2.4          |                0       102.9 MB  nvidia\n",
      "    libcufile-1.13.1.3         |                0         936 KB  nvidia\n",
      "    libcurand-10.3.9.90        |                0        43.5 MB  nvidia\n",
      "    libcusolver-11.4.4.55      |                0        98.3 MB  nvidia\n",
      "    libcusparse-12.0.2.55      |                0       163.0 MB  nvidia\n",
      "    libdeflate-1.22            |       h5eee18b_0          68 KB\n",
      "    libgfortran-ng-7.5.0       |      ha8ba4b0_17          22 KB\n",
      "    libgfortran4-7.5.0         |      ha8ba4b0_17         995 KB\n",
      "    libidn2-2.3.4              |       h5eee18b_0         146 KB\n",
      "    libjpeg-turbo-2.0.0        |       h9bf148f_0         950 KB  pytorch\n",
      "    liblapack-3.8.0            |11_h6e990d7_netlib         2.9 MB  conda-forge\n",
      "    libnpp-12.0.2.50           |                0       139.8 MB  nvidia\n",
      "    libnvjitlink-12.1.105      |                0        16.9 MB  nvidia\n",
      "    libnvjpeg-12.1.1.14        |                0         2.9 MB  nvidia\n",
      "    libtasn1-4.19.0            |       h5eee18b_0          63 KB\n",
      "    libtiff-4.7.0              |       hde9077f_0         447 KB\n",
      "    libunistring-0.9.10        |       h27cfd23_0         536 KB\n",
      "    libwebp-1.3.2              |       h9f374a3_1          94 KB\n",
      "    libwebp-base-1.3.2         |       h5eee18b_1         425 KB\n",
      "    llvm-openmp-14.0.6         |       h9e868ea_0         4.4 MB\n",
      "    markupsafe-3.0.2           |  py310h5eee18b_0          24 KB\n",
      "    mkl-2025.0.0               |     hacee8c2_941       127.4 MB\n",
      "    mpc-1.3.1                  |       h5eee18b_0         129 KB\n",
      "    mpfr-4.2.1                 |       h5eee18b_0         821 KB\n",
      "    mpmath-1.3.0               |  py310h06a4308_0         834 KB\n",
      "    nettle-3.7.3               |       hbbd107a_1         809 KB\n",
      "    networkx-3.2.1             |  py310h06a4308_0         2.4 MB\n",
      "    numpy-1.22.3               |  py310h4ef5377_2         6.8 MB  conda-forge\n",
      "    ocl-icd-2.3.2              |       h5eee18b_1         136 KB\n",
      "    openh264-2.1.1             |       h4ff587b_0         711 KB\n",
      "    openjpeg-2.5.2             |       h0d4d230_1         373 KB\n",
      "    pillow-11.1.0              |  py310hac6e08b_1         818 KB\n",
      "    pysocks-1.7.1              |  py310h06a4308_0          28 KB\n",
      "    pytorch-2.5.1              |py3.10_cuda12.1_cudnn9.1.0_0        1.35 GB  pytorch\n",
      "    pytorch-cuda-12.1          |       ha16c6d3_6           7 KB  pytorch\n",
      "    pytorch-mutex-1.0          |             cuda           3 KB  pytorch\n",
      "    pyyaml-6.0.2               |  py310h5eee18b_0         193 KB\n",
      "    requests-2.32.3            |  py310h06a4308_1         101 KB\n",
      "    sympy-1.13.3               |  py310h06a4308_1        11.3 MB\n",
      "    tbb-2022.0.0               |       hdb19cb5_0         188 KB\n",
      "    tbb-devel-2022.0.0         |       hdb19cb5_0         1.1 MB\n",
      "    torchaudio-2.5.1           |      py310_cu121         6.2 MB  pytorch\n",
      "    torchtriton-3.1.0          |            py310       233.5 MB  pytorch\n",
      "    torchvision-0.20.1         |      py310_cu121         8.3 MB  pytorch\n",
      "    urllib3-2.3.0              |  py310h06a4308_0         190 KB\n",
      "    ------------------------------------------------------------\n",
      "                                           Total:        2.70 GB\n",
      "\n",
      "The following NEW packages will be INSTALLED:\n",
      "\n",
      "  blas               pkgs/main/linux-64::blas-1.0-mkl \n",
      "  brotli-python      pkgs/main/linux-64::brotli-python-1.0.9-py310h6a678d5_9 \n",
      "  certifi            pkgs/main/linux-64::certifi-2025.1.31-py310h06a4308_0 \n",
      "  charset-normalizer pkgs/main/noarch::charset-normalizer-3.3.2-pyhd3eb1b0_0 \n",
      "  cuda-cudart        nvidia/linux-64::cuda-cudart-12.1.105-0 \n",
      "  cuda-cupti         nvidia/linux-64::cuda-cupti-12.1.105-0 \n",
      "  cuda-libraries     nvidia/linux-64::cuda-libraries-12.1.0-0 \n",
      "  cuda-nvrtc         nvidia/linux-64::cuda-nvrtc-12.1.105-0 \n",
      "  cuda-nvtx          nvidia/linux-64::cuda-nvtx-12.1.105-0 \n",
      "  cuda-opencl        nvidia/linux-64::cuda-opencl-12.8.90-0 \n",
      "  cuda-runtime       nvidia/linux-64::cuda-runtime-12.1.0-0 \n",
      "  cuda-version       nvidia/noarch::cuda-version-12.8-3 \n",
      "  ffmpeg             pytorch/linux-64::ffmpeg-4.3-hf484d3e_0 \n",
      "  filelock           pkgs/main/linux-64::filelock-3.17.0-py310h06a4308_0 \n",
      "  freetype           pkgs/main/linux-64::freetype-2.13.3-h4a9f257_0 \n",
      "  giflib             pkgs/main/linux-64::giflib-5.2.2-h5eee18b_0 \n",
      "  gmp                pkgs/main/linux-64::gmp-6.3.0-h6a678d5_0 \n",
      "  gmpy2              pkgs/main/linux-64::gmpy2-2.2.1-py310h5eee18b_0 \n",
      "  gnutls             pkgs/main/linux-64::gnutls-3.6.15-he1e5248_0 \n",
      "  idna               pkgs/main/linux-64::idna-3.7-py310h06a4308_0 \n",
      "  intel-openmp       pkgs/main/linux-64::intel-openmp-2025.0.0-h06a4308_1171 \n",
      "  jinja2             pkgs/main/linux-64::jinja2-3.1.6-py310h06a4308_0 \n",
      "  jpeg               pkgs/main/linux-64::jpeg-9e-h5eee18b_3 \n",
      "  lame               pkgs/main/linux-64::lame-3.100-h7b6447c_0 \n",
      "  lcms2              pkgs/main/linux-64::lcms2-2.16-h92b89f2_1 \n",
      "  lerc               pkgs/main/linux-64::lerc-4.0.0-h6a678d5_0 \n",
      "  libblas            conda-forge/linux-64::libblas-3.8.0-11_h6e990d7_netlib \n",
      "  libcblas           conda-forge/linux-64::libcblas-3.8.0-11_h6e990d7_netlib \n",
      "  libcublas          nvidia/linux-64::libcublas-12.1.0.26-0 \n",
      "  libcufft           nvidia/linux-64::libcufft-11.0.2.4-0 \n",
      "  libcufile          nvidia/linux-64::libcufile-1.13.1.3-0 \n",
      "  libcurand          nvidia/linux-64::libcurand-10.3.9.90-0 \n",
      "  libcusolver        nvidia/linux-64::libcusolver-11.4.4.55-0 \n",
      "  libcusparse        nvidia/linux-64::libcusparse-12.0.2.55-0 \n",
      "  libdeflate         pkgs/main/linux-64::libdeflate-1.22-h5eee18b_0 \n",
      "  libgfortran-ng     pkgs/main/linux-64::libgfortran-ng-7.5.0-ha8ba4b0_17 \n",
      "  libgfortran4       pkgs/main/linux-64::libgfortran4-7.5.0-ha8ba4b0_17 \n",
      "  libiconv           pkgs/main/linux-64::libiconv-1.16-h5eee18b_3 \n",
      "  libidn2            pkgs/main/linux-64::libidn2-2.3.4-h5eee18b_0 \n",
      "  libjpeg-turbo      pytorch/linux-64::libjpeg-turbo-2.0.0-h9bf148f_0 \n",
      "  liblapack          conda-forge/linux-64::liblapack-3.8.0-11_h6e990d7_netlib \n",
      "  libnpp             nvidia/linux-64::libnpp-12.0.2.50-0 \n",
      "  libnvjitlink       nvidia/linux-64::libnvjitlink-12.1.105-0 \n",
      "  libnvjpeg          nvidia/linux-64::libnvjpeg-12.1.1.14-0 \n",
      "  libpng             pkgs/main/linux-64::libpng-1.6.39-h5eee18b_0 \n",
      "  libtasn1           pkgs/main/linux-64::libtasn1-4.19.0-h5eee18b_0 \n",
      "  libtiff            pkgs/main/linux-64::libtiff-4.7.0-hde9077f_0 \n",
      "  libunistring       pkgs/main/linux-64::libunistring-0.9.10-h27cfd23_0 \n",
      "  libwebp            pkgs/main/linux-64::libwebp-1.3.2-h9f374a3_1 \n",
      "  libwebp-base       pkgs/main/linux-64::libwebp-base-1.3.2-h5eee18b_1 \n",
      "  llvm-openmp        pkgs/main/linux-64::llvm-openmp-14.0.6-h9e868ea_0 \n",
      "  lz4-c              pkgs/main/linux-64::lz4-c-1.9.4-h6a678d5_1 \n",
      "  markupsafe         pkgs/main/linux-64::markupsafe-3.0.2-py310h5eee18b_0 \n",
      "  mkl                pkgs/main/linux-64::mkl-2025.0.0-hacee8c2_941 \n",
      "  mpc                pkgs/main/linux-64::mpc-1.3.1-h5eee18b_0 \n",
      "  mpfr               pkgs/main/linux-64::mpfr-4.2.1-h5eee18b_0 \n",
      "  mpmath             pkgs/main/linux-64::mpmath-1.3.0-py310h06a4308_0 \n",
      "  nettle             pkgs/main/linux-64::nettle-3.7.3-hbbd107a_1 \n",
      "  networkx           pkgs/main/linux-64::networkx-3.2.1-py310h06a4308_0 \n",
      "  numpy              conda-forge/linux-64::numpy-1.22.3-py310h4ef5377_2 \n",
      "  ocl-icd            pkgs/main/linux-64::ocl-icd-2.3.2-h5eee18b_1 \n",
      "  openh264           pkgs/main/linux-64::openh264-2.1.1-h4ff587b_0 \n",
      "  openjpeg           pkgs/main/linux-64::openjpeg-2.5.2-h0d4d230_1 \n",
      "  pillow             pkgs/main/linux-64::pillow-11.1.0-py310hac6e08b_1 \n",
      "  pysocks            pkgs/main/linux-64::pysocks-1.7.1-py310h06a4308_0 \n",
      "  pytorch            pytorch/linux-64::pytorch-2.5.1-py3.10_cuda12.1_cudnn9.1.0_0 \n",
      "  pytorch-cuda       pytorch/linux-64::pytorch-cuda-12.1-ha16c6d3_6 \n",
      "  pytorch-mutex      pytorch/noarch::pytorch-mutex-1.0-cuda \n",
      "  pyyaml             pkgs/main/linux-64::pyyaml-6.0.2-py310h5eee18b_0 \n",
      "  requests           pkgs/main/linux-64::requests-2.32.3-py310h06a4308_1 \n",
      "  sympy              pkgs/main/linux-64::sympy-1.13.3-py310h06a4308_1 \n",
      "  tbb                pkgs/main/linux-64::tbb-2022.0.0-hdb19cb5_0 \n",
      "  tbb-devel          pkgs/main/linux-64::tbb-devel-2022.0.0-hdb19cb5_0 \n",
      "  torchaudio         pytorch/linux-64::torchaudio-2.5.1-py310_cu121 \n",
      "  torchtriton        pytorch/linux-64::torchtriton-3.1.0-py310 \n",
      "  torchvision        pytorch/linux-64::torchvision-0.20.1-py310_cu121 \n",
      "  urllib3            pkgs/main/linux-64::urllib3-2.3.0-py310h06a4308_0 \n",
      "  yaml               pkgs/main/linux-64::yaml-0.2.5-h7b6447c_0 \n",
      "  zstd               pkgs/main/linux-64::zstd-1.5.6-hc292b87_0 \n",
      "\n",
      "\n",
      "Proceed ([y]/n)? \n",
      "CondaSystemExit: \n",
      "Operation aborted.  Exiting.\n",
      "\n",
      "^C\n"
     ]
    }
   ],
   "source": [
    "! conda install pytorch torchvision torchaudio pytorch-cuda=12.1 -c pytorch -c nvidia"
   ]
  },
  {
   "cell_type": "code",
   "execution_count": 3,
   "id": "9f61661d",
   "metadata": {},
   "outputs": [
    {
     "name": "stdout",
     "output_type": "stream",
     "text": [
      "2.2.2+cu121\n"
     ]
    }
   ],
   "source": [
    "print(t.__version__)"
   ]
  },
  {
   "cell_type": "code",
   "execution_count": 1,
   "id": "3852cdf9",
   "metadata": {},
   "outputs": [
    {
     "name": "stdout",
     "output_type": "stream",
     "text": [
      "True\n",
      "NVIDIA GeForce RTX 4060 Laptop GPU\n"
     ]
    }
   ],
   "source": [
    "import torch as t\n",
    "print(t.cuda.is_available())\n",
    "print(t.cuda.get_device_name(0))\n"
   ]
  },
  {
   "cell_type": "code",
   "execution_count": 3,
   "id": "b2f01133",
   "metadata": {},
   "outputs": [
    {
     "ename": "NameError",
     "evalue": "name 'MyModel' is not defined",
     "output_type": "error",
     "traceback": [
      "\u001b[0;31m---------------------------------------------------------------------------\u001b[0m",
      "\u001b[0;31mNameError\u001b[0m                                 Traceback (most recent call last)",
      "Cell \u001b[0;32mIn[3], line 4\u001b[0m\n\u001b[1;32m      1\u001b[0m devices \u001b[38;5;241m=\u001b[39m t\u001b[38;5;241m.\u001b[39mdevice(\u001b[38;5;124m\"\u001b[39m\u001b[38;5;124mcuda\u001b[39m\u001b[38;5;124m\"\u001b[39m \u001b[38;5;28;01mif\u001b[39;00m t\u001b[38;5;241m.\u001b[39mcuda\u001b[38;5;241m.\u001b[39mis_available() \u001b[38;5;28;01melse\u001b[39;00m \u001b[38;5;124m\"\u001b[39m\u001b[38;5;124mcpu\u001b[39m\u001b[38;5;124m\"\u001b[39m)\n\u001b[1;32m      3\u001b[0m x \u001b[38;5;241m=\u001b[39m t\u001b[38;5;241m.\u001b[39mrand(\u001b[38;5;241m3\u001b[39m,\u001b[38;5;241m3\u001b[39m)\u001b[38;5;241m.\u001b[39mto(devices)\n\u001b[0;32m----> 4\u001b[0m model \u001b[38;5;241m=\u001b[39m \u001b[43mMyModel\u001b[49m()\u001b[38;5;241m.\u001b[39mto(devices)\n",
      "\u001b[0;31mNameError\u001b[0m: name 'MyModel' is not defined"
     ]
    }
   ],
   "source": [
    "devices = t.device(\"cuda\" if t.cuda.is_available() else \"cpu\")\n",
    "\n",
    "x = t.rand(3,3).to(devices)\n",
    "model = MyModel().to(devices)"
   ]
  },
  {
   "cell_type": "code",
   "execution_count": 4,
   "id": "9991f2d9",
   "metadata": {},
   "outputs": [
    {
     "name": "stdout",
     "output_type": "stream",
     "text": [
      "CUDA Available: True\n",
      "cuDNN Version: 90100\n",
      "cuDNN Enabled: True\n"
     ]
    }
   ],
   "source": [
    "import torch\n",
    "print(\"CUDA Available:\", torch.cuda.is_available())\n",
    "print(\"cuDNN Version:\", torch.backends.cudnn.version())\n",
    "print(\"cuDNN Enabled:\", torch.backends.cudnn.enabled)\n"
   ]
  },
  {
   "cell_type": "code",
   "execution_count": 5,
   "id": "4db71b46",
   "metadata": {},
   "outputs": [
    {
     "name": "stdout",
     "output_type": "stream",
     "text": [
      "CPU Time: 3.92s\n",
      "GPU Time: 0.17s\n"
     ]
    }
   ],
   "source": [
    "import time\n",
    "\n",
    "# CPU test\n",
    "start = time.time()\n",
    "a = torch.rand(10000, 10000)\n",
    "b = torch.rand(10000, 10000)\n",
    "c = a @ b  # Matrix multiplication\n",
    "print(f\"CPU Time: {time.time() - start:.2f}s\")\n",
    "\n",
    "# GPU test (if available)\n",
    "if torch.cuda.is_available():\n",
    "    start = time.time()\n",
    "    a = a.to(\"cuda\")\n",
    "    b = b.to(\"cuda\")\n",
    "    c = a @ b\n",
    "    print(f\"GPU Time: {time.time() - start:.2f}s\")\n"
   ]
  },
  {
   "cell_type": "code",
   "execution_count": 8,
   "id": "18038956",
   "metadata": {},
   "outputs": [
    {
     "name": "stdout",
     "output_type": "stream",
     "text": [
      "tensor([[-0.5000,  0.5000,  0.0000],\n",
      "        [ 0.5000,  0.0000,  0.0000],\n",
      "        [ 0.2500, -0.5000,  0.5000]])\n",
      "torch.return_types.svd(\n",
      "U=tensor([[-0.3333, -0.6667, -0.6667],\n",
      "        [-0.6667, -0.3333,  0.6667],\n",
      "        [-0.6667,  0.6667, -0.3333]]),\n",
      "S=tensor([4.0000, 2.0000, 1.0000]),\n",
      "V=tensor([[-0.6667,  0.3333,  0.6667],\n",
      "        [-0.6667, -0.6667, -0.3333],\n",
      "        [-0.3333,  0.6667, -0.6667]]))\n",
      "tensor(4.)\n"
     ]
    }
   ],
   "source": [
    "a = torch.tensor([[0,2,0],[2,2,0],[2,1,2]], dtype=torch.float32)\n",
    "\n",
    "print(torch.inverse(a))\n",
    "print(torch.svd(a))\n",
    "\n",
    "print(torch.trace(a))\n"
   ]
  },
  {
   "cell_type": "code",
   "execution_count": null,
   "id": "37be9de5",
   "metadata": {},
   "outputs": [],
   "source": []
  }
 ],
 "metadata": {
  "kernelspec": {
   "display_name": "aiml-test",
   "language": "python",
   "name": "python3"
  },
  "language_info": {
   "codemirror_mode": {
    "name": "ipython",
    "version": 3
   },
   "file_extension": ".py",
   "mimetype": "text/x-python",
   "name": "python",
   "nbconvert_exporter": "python",
   "pygments_lexer": "ipython3",
   "version": "3.9.21"
  }
 },
 "nbformat": 4,
 "nbformat_minor": 5
}
